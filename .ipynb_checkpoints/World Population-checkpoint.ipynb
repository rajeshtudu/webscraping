{
 "cells": [
  {
   "cell_type": "code",
   "execution_count": 2,
   "id": "62b089a6",
   "metadata": {},
   "outputs": [],
   "source": [
    "url = 'https://www.worldometers.info/world-population/'\n",
    "import requests\n",
    "import pandas as pd\n",
    "import seaborn as sns\n",
    "import matplotlib.pyplot as plt\n",
    "from bs4 import BeautifulSoup \n",
    "html_content = requests.get(url).content\n",
    "soup = BeautifulSoup(html_content, 'html.parser')\n",
    "table = soup.find('tbody')\n",
    "tr = soup.find_all('tr')\n",
    "\n",
    "all_data = []\n",
    "for i in range(len(tr)):\n",
    "    population = []\n",
    "    td = tr[i].find_all('td')\n",
    "    for cell_data in td:\n",
    "        population.append(cell_data.text)\n",
    "    all_data.append(population)\n",
    "\n",
    "clean_data = list(map(lambda x: x[0:7], all_data))\n",
    "column_name = ['Year', \n",
    "               'Population', \n",
    "               'Yearly % change',\n",
    "               'Yearly change',\n",
    "               'Median age',\n",
    "               'Fertility rate',\n",
    "              'Density']\n",
    "\n",
    "df = pd.DataFrame(clean_data, columns = column_name)"
   ]
  },
  {
   "cell_type": "code",
   "execution_count": 3,
   "id": "9685abd4",
   "metadata": {},
   "outputs": [
    {
     "data": {
      "text/html": [
       "<div>\n",
       "<style scoped>\n",
       "    .dataframe tbody tr th:only-of-type {\n",
       "        vertical-align: middle;\n",
       "    }\n",
       "\n",
       "    .dataframe tbody tr th {\n",
       "        vertical-align: top;\n",
       "    }\n",
       "\n",
       "    .dataframe thead th {\n",
       "        text-align: right;\n",
       "    }\n",
       "</style>\n",
       "<table border=\"1\" class=\"dataframe\">\n",
       "  <thead>\n",
       "    <tr style=\"text-align: right;\">\n",
       "      <th></th>\n",
       "      <th>Year</th>\n",
       "      <th>Population</th>\n",
       "      <th>Yearly % change</th>\n",
       "      <th>Yearly change</th>\n",
       "      <th>Median age</th>\n",
       "      <th>Fertility rate</th>\n",
       "      <th>Density</th>\n",
       "    </tr>\n",
       "  </thead>\n",
       "  <tbody>\n",
       "    <tr>\n",
       "      <th>267</th>\n",
       "      <td>231</td>\n",
       "      <td>Montserrat</td>\n",
       "      <td>4,992</td>\n",
       "      <td>0.06 %</td>\n",
       "      <td>3</td>\n",
       "      <td>50</td>\n",
       "      <td>100</td>\n",
       "    </tr>\n",
       "    <tr>\n",
       "      <th>268</th>\n",
       "      <td>232</td>\n",
       "      <td>Falkland Islands</td>\n",
       "      <td>3,480</td>\n",
       "      <td>3.05 %</td>\n",
       "      <td>103</td>\n",
       "      <td>0</td>\n",
       "      <td>12,170</td>\n",
       "    </tr>\n",
       "    <tr>\n",
       "      <th>269</th>\n",
       "      <td>233</td>\n",
       "      <td>Niue</td>\n",
       "      <td>1,626</td>\n",
       "      <td>0.68 %</td>\n",
       "      <td>11</td>\n",
       "      <td>6</td>\n",
       "      <td>260</td>\n",
       "    </tr>\n",
       "    <tr>\n",
       "      <th>270</th>\n",
       "      <td>234</td>\n",
       "      <td>Tokelau</td>\n",
       "      <td>1,357</td>\n",
       "      <td>1.27 %</td>\n",
       "      <td>17</td>\n",
       "      <td>136</td>\n",
       "      <td>10</td>\n",
       "    </tr>\n",
       "    <tr>\n",
       "      <th>271</th>\n",
       "      <td>235</td>\n",
       "      <td>Holy See</td>\n",
       "      <td>801</td>\n",
       "      <td>0.25 %</td>\n",
       "      <td>2</td>\n",
       "      <td>2,003</td>\n",
       "      <td>0</td>\n",
       "    </tr>\n",
       "  </tbody>\n",
       "</table>\n",
       "</div>"
      ],
      "text/plain": [
       "    Year        Population Yearly % change Yearly change Median age  \\\n",
       "267  231        Montserrat           4,992        0.06 %          3   \n",
       "268  232  Falkland Islands           3,480        3.05 %        103   \n",
       "269  233              Niue           1,626        0.68 %         11   \n",
       "270  234           Tokelau           1,357        1.27 %         17   \n",
       "271  235          Holy See             801        0.25 %          2   \n",
       "\n",
       "    Fertility rate Density  \n",
       "267             50     100  \n",
       "268              0  12,170  \n",
       "269              6     260  \n",
       "270            136      10  \n",
       "271          2,003       0  "
      ]
     },
     "execution_count": 3,
     "metadata": {},
     "output_type": "execute_result"
    }
   ],
   "source": [
    "df.tail()"
   ]
  },
  {
   "cell_type": "code",
   "execution_count": 4,
   "id": "cf8f3612",
   "metadata": {},
   "outputs": [
    {
     "data": {
      "text/html": [
       "<div>\n",
       "<style scoped>\n",
       "    .dataframe tbody tr th:only-of-type {\n",
       "        vertical-align: middle;\n",
       "    }\n",
       "\n",
       "    .dataframe tbody tr th {\n",
       "        vertical-align: top;\n",
       "    }\n",
       "\n",
       "    .dataframe thead th {\n",
       "        text-align: right;\n",
       "    }\n",
       "</style>\n",
       "<table border=\"1\" class=\"dataframe\">\n",
       "  <thead>\n",
       "    <tr style=\"text-align: right;\">\n",
       "      <th></th>\n",
       "      <th>Year</th>\n",
       "      <th>Population</th>\n",
       "      <th>Yearly % change</th>\n",
       "      <th>Yearly change</th>\n",
       "      <th>Median age</th>\n",
       "      <th>Fertility rate</th>\n",
       "      <th>Density</th>\n",
       "    </tr>\n",
       "  </thead>\n",
       "  <tbody>\n",
       "    <tr>\n",
       "      <th>0</th>\n",
       "      <td>2020</td>\n",
       "      <td>7,794,798,739</td>\n",
       "      <td>1.05 %</td>\n",
       "      <td>81,330,639</td>\n",
       "      <td>30.9</td>\n",
       "      <td>2.47</td>\n",
       "      <td>52</td>\n",
       "    </tr>\n",
       "    <tr>\n",
       "      <th>1</th>\n",
       "      <td>2020</td>\n",
       "      <td>7,794,798,739</td>\n",
       "      <td>1.05 %</td>\n",
       "      <td>81,330,639</td>\n",
       "      <td>30.9</td>\n",
       "      <td>2.47</td>\n",
       "      <td>52</td>\n",
       "    </tr>\n",
       "    <tr>\n",
       "      <th>2</th>\n",
       "      <td>2019</td>\n",
       "      <td>7,713,468,100</td>\n",
       "      <td>1.08 %</td>\n",
       "      <td>82,377,060</td>\n",
       "      <td>29.8</td>\n",
       "      <td>2.51</td>\n",
       "      <td>52</td>\n",
       "    </tr>\n",
       "    <tr>\n",
       "      <th>3</th>\n",
       "      <td>2018</td>\n",
       "      <td>7,631,091,040</td>\n",
       "      <td>1.10 %</td>\n",
       "      <td>83,232,115</td>\n",
       "      <td>29.8</td>\n",
       "      <td>2.51</td>\n",
       "      <td>51</td>\n",
       "    </tr>\n",
       "    <tr>\n",
       "      <th>4</th>\n",
       "      <td>2017</td>\n",
       "      <td>7,547,858,925</td>\n",
       "      <td>1.12 %</td>\n",
       "      <td>83,836,876</td>\n",
       "      <td>29.8</td>\n",
       "      <td>2.51</td>\n",
       "      <td>51</td>\n",
       "    </tr>\n",
       "  </tbody>\n",
       "</table>\n",
       "</div>"
      ],
      "text/plain": [
       "   Year     Population Yearly % change Yearly change Median age  \\\n",
       "0  2020  7,794,798,739          1.05 %    81,330,639       30.9   \n",
       "1  2020  7,794,798,739          1.05 %    81,330,639       30.9   \n",
       "2  2019  7,713,468,100          1.08 %    82,377,060       29.8   \n",
       "3  2018  7,631,091,040          1.10 %    83,232,115       29.8   \n",
       "4  2017  7,547,858,925          1.12 %    83,836,876       29.8   \n",
       "\n",
       "  Fertility rate Density  \n",
       "0           2.47      52  \n",
       "1           2.47      52  \n",
       "2           2.51      52  \n",
       "3           2.51      51  \n",
       "4           2.51      51  "
      ]
     },
     "execution_count": 4,
     "metadata": {},
     "output_type": "execute_result"
    }
   ],
   "source": [
    "df.head()"
   ]
  },
  {
   "cell_type": "code",
   "execution_count": 5,
   "id": "f83075a1",
   "metadata": {},
   "outputs": [],
   "source": [
    "df.to_csv('population.csv', index = False)\n",
    "df = pd.read_csv('population.csv')"
   ]
  },
  {
   "cell_type": "code",
   "execution_count": 6,
   "id": "9b17a303",
   "metadata": {},
   "outputs": [
    {
     "data": {
      "text/html": [
       "<div>\n",
       "<style scoped>\n",
       "    .dataframe tbody tr th:only-of-type {\n",
       "        vertical-align: middle;\n",
       "    }\n",
       "\n",
       "    .dataframe tbody tr th {\n",
       "        vertical-align: top;\n",
       "    }\n",
       "\n",
       "    .dataframe thead th {\n",
       "        text-align: right;\n",
       "    }\n",
       "</style>\n",
       "<table border=\"1\" class=\"dataframe\">\n",
       "  <thead>\n",
       "    <tr style=\"text-align: right;\">\n",
       "      <th></th>\n",
       "      <th>Year</th>\n",
       "      <th>Population</th>\n",
       "      <th>Yearly % change</th>\n",
       "      <th>Yearly change</th>\n",
       "      <th>Median age</th>\n",
       "      <th>Fertility rate</th>\n",
       "      <th>Density</th>\n",
       "    </tr>\n",
       "  </thead>\n",
       "  <tbody>\n",
       "    <tr>\n",
       "      <th>0</th>\n",
       "      <td>False</td>\n",
       "      <td>False</td>\n",
       "      <td>False</td>\n",
       "      <td>False</td>\n",
       "      <td>False</td>\n",
       "      <td>False</td>\n",
       "      <td>False</td>\n",
       "    </tr>\n",
       "    <tr>\n",
       "      <th>1</th>\n",
       "      <td>False</td>\n",
       "      <td>False</td>\n",
       "      <td>False</td>\n",
       "      <td>False</td>\n",
       "      <td>False</td>\n",
       "      <td>False</td>\n",
       "      <td>False</td>\n",
       "    </tr>\n",
       "    <tr>\n",
       "      <th>2</th>\n",
       "      <td>False</td>\n",
       "      <td>False</td>\n",
       "      <td>False</td>\n",
       "      <td>False</td>\n",
       "      <td>False</td>\n",
       "      <td>False</td>\n",
       "      <td>False</td>\n",
       "    </tr>\n",
       "    <tr>\n",
       "      <th>3</th>\n",
       "      <td>False</td>\n",
       "      <td>False</td>\n",
       "      <td>False</td>\n",
       "      <td>False</td>\n",
       "      <td>False</td>\n",
       "      <td>False</td>\n",
       "      <td>False</td>\n",
       "    </tr>\n",
       "    <tr>\n",
       "      <th>4</th>\n",
       "      <td>False</td>\n",
       "      <td>False</td>\n",
       "      <td>False</td>\n",
       "      <td>False</td>\n",
       "      <td>False</td>\n",
       "      <td>False</td>\n",
       "      <td>False</td>\n",
       "    </tr>\n",
       "    <tr>\n",
       "      <th>...</th>\n",
       "      <td>...</td>\n",
       "      <td>...</td>\n",
       "      <td>...</td>\n",
       "      <td>...</td>\n",
       "      <td>...</td>\n",
       "      <td>...</td>\n",
       "      <td>...</td>\n",
       "    </tr>\n",
       "    <tr>\n",
       "      <th>267</th>\n",
       "      <td>False</td>\n",
       "      <td>False</td>\n",
       "      <td>False</td>\n",
       "      <td>False</td>\n",
       "      <td>False</td>\n",
       "      <td>False</td>\n",
       "      <td>False</td>\n",
       "    </tr>\n",
       "    <tr>\n",
       "      <th>268</th>\n",
       "      <td>False</td>\n",
       "      <td>False</td>\n",
       "      <td>False</td>\n",
       "      <td>False</td>\n",
       "      <td>False</td>\n",
       "      <td>False</td>\n",
       "      <td>False</td>\n",
       "    </tr>\n",
       "    <tr>\n",
       "      <th>269</th>\n",
       "      <td>False</td>\n",
       "      <td>False</td>\n",
       "      <td>False</td>\n",
       "      <td>False</td>\n",
       "      <td>False</td>\n",
       "      <td>False</td>\n",
       "      <td>False</td>\n",
       "    </tr>\n",
       "    <tr>\n",
       "      <th>270</th>\n",
       "      <td>False</td>\n",
       "      <td>False</td>\n",
       "      <td>False</td>\n",
       "      <td>False</td>\n",
       "      <td>False</td>\n",
       "      <td>False</td>\n",
       "      <td>False</td>\n",
       "    </tr>\n",
       "    <tr>\n",
       "      <th>271</th>\n",
       "      <td>False</td>\n",
       "      <td>False</td>\n",
       "      <td>False</td>\n",
       "      <td>False</td>\n",
       "      <td>False</td>\n",
       "      <td>False</td>\n",
       "      <td>False</td>\n",
       "    </tr>\n",
       "  </tbody>\n",
       "</table>\n",
       "<p>272 rows × 7 columns</p>\n",
       "</div>"
      ],
      "text/plain": [
       "      Year  Population  Yearly % change  Yearly change  Median age  \\\n",
       "0    False       False            False          False       False   \n",
       "1    False       False            False          False       False   \n",
       "2    False       False            False          False       False   \n",
       "3    False       False            False          False       False   \n",
       "4    False       False            False          False       False   \n",
       "..     ...         ...              ...            ...         ...   \n",
       "267  False       False            False          False       False   \n",
       "268  False       False            False          False       False   \n",
       "269  False       False            False          False       False   \n",
       "270  False       False            False          False       False   \n",
       "271  False       False            False          False       False   \n",
       "\n",
       "     Fertility rate  Density  \n",
       "0             False    False  \n",
       "1             False    False  \n",
       "2             False    False  \n",
       "3             False    False  \n",
       "4             False    False  \n",
       "..              ...      ...  \n",
       "267           False    False  \n",
       "268           False    False  \n",
       "269           False    False  \n",
       "270           False    False  \n",
       "271           False    False  \n",
       "\n",
       "[272 rows x 7 columns]"
      ]
     },
     "execution_count": 6,
     "metadata": {},
     "output_type": "execute_result"
    }
   ],
   "source": [
    "df.isna()"
   ]
  },
  {
   "cell_type": "code",
   "execution_count": null,
   "id": "57b96b96",
   "metadata": {},
   "outputs": [],
   "source": [
    "df.isna().sum()"
   ]
  },
  {
   "cell_type": "code",
   "execution_count": null,
   "id": "ef1df24a",
   "metadata": {},
   "outputs": [],
   "source": [
    "df.isna().sum().plot.bar()\n",
    "plt.title('World Population')"
   ]
  },
  {
   "cell_type": "code",
   "execution_count": 8,
   "id": "707ea7bc",
   "metadata": {},
   "outputs": [
    {
     "data": {
      "text/plain": [
       "Text(0.5, 1.0, 'World population')"
      ]
     },
     "execution_count": 8,
     "metadata": {},
     "output_type": "execute_result"
    },
    {
     "data": {
      "image/png": "[encoded data removed]",
      "text/plain": [
       "<Figure size 640x480 with 1 Axes>"
      ]
     },
     "metadata": {},
     "output_type": "display_data"
    }
   ],
   "source": [
    "df.isna().sum().plot.pie()\n",
    "plt.title('World population')"
   ]
  },
  {
   "cell_type": "code",
   "execution_count": 7,
   "id": "ffaa9df1",
   "metadata": {},
   "outputs": [
    {
     "data": {
      "text/plain": [
       "Text(0.5, 1.0, 'World Population')"
      ]
     },
     "execution_count": 7,
     "metadata": {},
     "output_type": "execute_result"
    },
    {
     "data": {
      "image/png": "[encoded data removed]",
      "text/plain": [
       "<Figure size 640x480 with 2 Axes>"
      ]
     },
     "metadata": {},
     "output_type": "display_data"
    }
   ],
   "source": [
    "sns.heatmap(df.isna().transpose())\n",
    "plt.title('World Population')"
   ]
  },
  {
   "cell_type": "code",
   "execution_count": 13,
   "id": "8c55ecc0",
   "metadata": {},
   "outputs": [
    {
     "data": {
      "text/plain": [
       "Text(0.5, 1.0, 'Yearly % change')"
      ]
     },
     "execution_count": 13,
     "metadata": {},
     "output_type": "execute_result"
    },
    {
     "data": {
      "image/png": "[encoded data removed]",
      "text/plain": [
       "<Figure size 640x480 with 1 Axes>"
      ]
     },
     "metadata": {},
     "output_type": "display_data"
    }
   ],
   "source": [
    "plt.plot(df['Yearly % change'][0:10], color = 'green')\n",
    "plt.title('Yearly % change')"
   ]
  },
  {
   "cell_type": "code",
   "execution_count": null,
   "id": "75ab02a8",
   "metadata": {},
   "outputs": [],
   "source": []
  }
 ],
 "metadata": {
  "kernelspec": {
   "display_name": "Python 3 (ipykernel)",
   "language": "python",
   "name": "python3"
  },
  "language_info": {
   "codemirror_mode": {
    "name": "ipython",
    "version": 3
   },
   "file_extension": ".py",
   "mimetype": "text/x-python",
   "name": "python",
   "nbconvert_exporter": "python",
   "pygments_lexer": "ipython3",
   "version": "3.11.1"
  }
 },
 "nbformat": 4,
 "nbformat_minor": 5
}
